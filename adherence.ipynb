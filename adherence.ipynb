{
 "cells": [
  {
   "cell_type": "code",
   "execution_count": 68,
   "id": "fd0991fc-97f9-4a01-a3d7-f0925772ee08",
   "metadata": {},
   "outputs": [],
   "source": [
    "import numpy as np\n",
    "import pandas as pd\n",
    "import matplotlib.pyplot as plt\n",
    "from itertools import combinations as c\n",
    "from plotly.offline import init_notebook_mode, iplot\n",
    "from plotly.graph_objs import*\n",
    "import plotly.graph_objects as go\n",
    "import plotly\n",
    "import dash\n",
    "#import chart_studio.tools as tls\n",
    "import dash_core_components as dcc\n",
    "import dash_html_components as html\n",
    "from dash.dependencies import Input, Output\n",
    "import plotly.express as px\n",
    "from flask import Flask, render_template"
   ]
  },
  {
   "cell_type": "code",
   "execution_count": 92,
   "id": "4f861bfc-e2b8-48f3-86bb-f110d51ee56e",
   "metadata": {},
   "outputs": [],
   "source": [
    "df = pd.read_csv(\"User Availability Summary.csv\")"
   ]
  },
  {
   "cell_type": "code",
   "execution_count": 93,
   "id": "f1a9abbd-3940-4112-9cac-9f4bdce16e79",
   "metadata": {},
   "outputs": [
    {
     "data": {
      "text/plain": [
       "Index(['UserId', 'StatusDateTime', 'StatusDateTimeGMT', 'ChangedStatus',\n",
       "       'ChangedStatusGroup', 'ChangedLoggedIn', 'ChangedAcdLoggedIn',\n",
       "       'StatusKey', 'StatusGroup', 'LoggedIn', 'AcdLoggedIn', 'StatusDnd',\n",
       "       'StatusAcw', 'EndDateTime', 'EndDateTimeGMT', 'StateDuration', 'SeqNo',\n",
       "       'I3TimeStampGMT', 'Activity_SiteId', 'SubSiteId', 'IndivID',\n",
       "       'IndivTypeID', 'TitleID', 'LastName', 'FirstName', 'MiddleName',\n",
       "       'Department', 'Company', 'JobTitle', 'AssistantName', 'IndivImage',\n",
       "       'IndivURL', 'ModifyDateTime', 'OrgID', 'Active', 'IsPrivate', 'LocID',\n",
       "       'Indiv_SiteID', 'Version', 'AppIndivID', 'ICUserID', 'OwnerID', 'ExtID',\n",
       "       'ExtSource', 'UserSecChecksum', 'onlyDate', 'KeyUser',\n",
       "       'DurationLoggedIn', 'DurationACDLoggedIn', 'DurationDND', 'DurationACW',\n",
       "       'rank'],\n",
       "      dtype='object')"
      ]
     },
     "execution_count": 93,
     "metadata": {},
     "output_type": "execute_result"
    }
   ],
   "source": [
    "df.columns"
   ]
  },
  {
   "cell_type": "code",
   "execution_count": 94,
   "id": "14acb8a9-cc0f-49fe-98c7-96e161a0046c",
   "metadata": {},
   "outputs": [],
   "source": [
    "df['StatusDateTime'] = pd.to_datetime(df['StatusDateTime'])\n",
    "df['StatusDateTime'] = df['StatusDateTime'].dt.date"
   ]
  },
  {
   "cell_type": "code",
   "execution_count": 95,
   "id": "b553f676-e40b-4a38-8178-32480dd6a423",
   "metadata": {},
   "outputs": [
    {
     "data": {
      "text/plain": [
       "0    2022-02-01\n",
       "1    2022-02-01\n",
       "2    2022-02-01\n",
       "3    2022-02-01\n",
       "4    2022-02-01\n",
       "Name: StatusDateTime, dtype: object"
      ]
     },
     "execution_count": 95,
     "metadata": {},
     "output_type": "execute_result"
    }
   ],
   "source": [
    "df['StatusDateTime'].head()"
   ]
  },
  {
   "cell_type": "code",
   "execution_count": null,
   "id": "a64b48a7-b235-4bc9-9f8f-0bec628cc7b1",
   "metadata": {},
   "outputs": [],
   "source": [
    "df= df[df['StatusDateTime'] > startdtate] & df= df[df['StatusDateTime'] < end date]"
   ]
  },
  {
   "cell_type": "code",
   "execution_count": 70,
   "id": "2315d0dc-d51b-4e07-9d1f-c153941cbcdb",
   "metadata": {},
   "outputs": [],
   "source": [
    "df[\"userid\"] = df[\"FirstName\"] + \" \" +  df[\"LastName\"]"
   ]
  },
  {
   "cell_type": "code",
   "execution_count": 71,
   "id": "7e713937-1064-402d-aa3f-e2ebef209e71",
   "metadata": {},
   "outputs": [],
   "source": [
    "#df = df.groupby(['userid','StatusKey'], as_index = True).sum()"
   ]
  },
  {
   "cell_type": "code",
   "execution_count": 72,
   "id": "3d69e4ca-c2bb-40a0-ad8f-72786094afac",
   "metadata": {},
   "outputs": [],
   "source": [
    "df = df.pivot_table(index = [\"userid\"],columns = \"StatusKey\")"
   ]
  },
  {
   "cell_type": "code",
   "execution_count": 73,
   "id": "c4819382-4e43-4add-b9ca-0ef8316d82b8",
   "metadata": {},
   "outputs": [],
   "source": [
    "df.columns = df.columns.droplevel()"
   ]
  },
  {
   "cell_type": "code",
   "execution_count": 74,
   "id": "fb696f4d-773f-42b0-b57a-a6fc9683f72e",
   "metadata": {},
   "outputs": [],
   "source": [
    "df[\"total\"] = df.sum(axis=1,numeric_only = True)\n",
    "#inter['total'] = inter.sum(axis=1, numeric_only= True)"
   ]
  },
  {
   "cell_type": "code",
   "execution_count": 75,
   "id": "92df8310-3673-4485-ba9b-efdc78882d3e",
   "metadata": {},
   "outputs": [],
   "source": [
    "df[\"non_productive\"] = df[\"total\"] - (df[[\"acw\",\"acdagentnotansweringccss\",\"available, no acd\",\"it issues\"]].sum(axis=1))"
   ]
  },
  {
   "cell_type": "code",
   "execution_count": 76,
   "id": "da24104f-c327-430e-8c52-f0b5af15b88b",
   "metadata": {},
   "outputs": [],
   "source": [
    "#df[\"adherence\"] = df[\"total\"] / (df[columns_list]df[\"acw\"] - df[\"acdagentnotansweringccss\"] - df[\"available, no acd\"] - df[\"it issues\"].sum(axis=1)"
   ]
  },
  {
   "cell_type": "code",
   "execution_count": 77,
   "id": "231b13ce-3f0e-49e3-8d92-34c365fa114a",
   "metadata": {},
   "outputs": [],
   "source": [
    "df[\"adherence\"] = df[\"non_productive\"] / df[\"total\"]"
   ]
  },
  {
   "cell_type": "code",
   "execution_count": 78,
   "id": "bd609d10-160e-4439-ace0-0dbc2bde11c3",
   "metadata": {},
   "outputs": [],
   "source": [
    "adherence = df[[\"adherence\", \"total\"]]"
   ]
  },
  {
   "cell_type": "code",
   "execution_count": 79,
   "id": "a74ef4da-0364-401a-86e0-e8a278654636",
   "metadata": {},
   "outputs": [],
   "source": [
    "adherence.columns.name = None"
   ]
  },
  {
   "cell_type": "code",
   "execution_count": 80,
   "id": "2aac4814-70e5-443e-9d1b-5ed6eb71303d",
   "metadata": {},
   "outputs": [],
   "source": [
    "adherence = adherence.reset_index(level=0)"
   ]
  },
  {
   "cell_type": "code",
   "execution_count": 81,
   "id": "e26eba79-faa5-428c-bdc5-5f03f864a338",
   "metadata": {},
   "outputs": [],
   "source": [
    "#adherence.rename(columns={ adherence.columns[0]: \"Agent\" }, inplace = True)"
   ]
  },
  {
   "cell_type": "code",
   "execution_count": 82,
   "id": "2dba4361-6c93-44ea-ae28-6109b8d91752",
   "metadata": {},
   "outputs": [],
   "source": [
    "adherence = adherence.drop(\"total\",axis = 1)"
   ]
  },
  {
   "cell_type": "code",
   "execution_count": 83,
   "id": "54718684-e525-41d4-8833-d1c1148f8e4e",
   "metadata": {},
   "outputs": [],
   "source": [
    "adherence[\"goal\"] = 90"
   ]
  },
  {
   "cell_type": "code",
   "execution_count": 84,
   "id": "c60cde9b-382b-4546-89f5-7d677d4d1732",
   "metadata": {
    "tags": []
   },
   "outputs": [
    {
     "data": {
      "text/html": [
       "<div>\n",
       "<style scoped>\n",
       "    .dataframe tbody tr th:only-of-type {\n",
       "        vertical-align: middle;\n",
       "    }\n",
       "\n",
       "    .dataframe tbody tr th {\n",
       "        vertical-align: top;\n",
       "    }\n",
       "\n",
       "    .dataframe thead th {\n",
       "        text-align: right;\n",
       "    }\n",
       "</style>\n",
       "<table border=\"1\" class=\"dataframe\">\n",
       "  <thead>\n",
       "    <tr style=\"text-align: right;\">\n",
       "      <th></th>\n",
       "      <th>userid</th>\n",
       "      <th>adherence</th>\n",
       "      <th>goal</th>\n",
       "    </tr>\n",
       "  </thead>\n",
       "  <tbody>\n",
       "    <tr>\n",
       "      <th>0</th>\n",
       "      <td>Angelica Mae Bartolay</td>\n",
       "      <td>0.955937</td>\n",
       "      <td>90</td>\n",
       "    </tr>\n",
       "    <tr>\n",
       "      <th>1</th>\n",
       "      <td>Anthony Carreon</td>\n",
       "      <td>0.934708</td>\n",
       "      <td>90</td>\n",
       "    </tr>\n",
       "    <tr>\n",
       "      <th>2</th>\n",
       "      <td>Bhea celebran</td>\n",
       "      <td>0.909213</td>\n",
       "      <td>90</td>\n",
       "    </tr>\n",
       "    <tr>\n",
       "      <th>3</th>\n",
       "      <td>Brian Seva</td>\n",
       "      <td>0.813502</td>\n",
       "      <td>90</td>\n",
       "    </tr>\n",
       "    <tr>\n",
       "      <th>4</th>\n",
       "      <td>Carlos Cortez</td>\n",
       "      <td>1.000000</td>\n",
       "      <td>90</td>\n",
       "    </tr>\n",
       "  </tbody>\n",
       "</table>\n",
       "</div>"
      ],
      "text/plain": [
       "                  userid  adherence  goal\n",
       "0  Angelica Mae Bartolay   0.955937    90\n",
       "1        Anthony Carreon   0.934708    90\n",
       "2          Bhea celebran   0.909213    90\n",
       "3             Brian Seva   0.813502    90\n",
       "4          Carlos Cortez   1.000000    90"
      ]
     },
     "execution_count": 84,
     "metadata": {},
     "output_type": "execute_result"
    }
   ],
   "source": [
    "adherence.head()"
   ]
  },
  {
   "cell_type": "code",
   "execution_count": 56,
   "id": "acd83935-d96f-45ca-902f-7f0e2b331931",
   "metadata": {},
   "outputs": [],
   "source": [
    "#coor1 = adherence[\"Agent\"]\n",
    "#coor2 = adherence[\"attainment\"] * 100\n",
    "#goal= adherence[\"goal\"]\n",
    "#fig = go.Figure(data = [go.Bar(name = 'Test1', x = coor1, y = coor2)])"
   ]
  },
  {
   "cell_type": "code",
   "execution_count": 57,
   "id": "9cd09556-92ae-493d-858a-6f403ae3b8e1",
   "metadata": {},
   "outputs": [],
   "source": [
    "#fig = go.Figure(data=[go.Table(header=dict(values=['Agent', 'Adherence']),\n",
    " #                cells=dict(values=[coor1, coor2]))\n",
    "#                     ])\n",
    "\n",
    "#fig.show()"
   ]
  },
  {
   "cell_type": "code",
   "execution_count": null,
   "id": "10b98b82-17c4-45d3-af02-3655499f8302",
   "metadata": {},
   "outputs": [],
   "source": []
  },
  {
   "cell_type": "code",
   "execution_count": 58,
   "id": "1e9e3b52-c9ce-439a-93d1-418b6be2d47f",
   "metadata": {},
   "outputs": [
    {
     "data": {
      "text/html": [
       "<div>\n",
       "<style scoped>\n",
       "    .dataframe tbody tr th:only-of-type {\n",
       "        vertical-align: middle;\n",
       "    }\n",
       "\n",
       "    .dataframe tbody tr th {\n",
       "        vertical-align: top;\n",
       "    }\n",
       "\n",
       "    .dataframe thead th {\n",
       "        text-align: right;\n",
       "    }\n",
       "</style>\n",
       "<table border=\"1\" class=\"dataframe\">\n",
       "  <thead>\n",
       "    <tr style=\"text-align: right;\">\n",
       "      <th></th>\n",
       "      <th>userid</th>\n",
       "      <th>adherence</th>\n",
       "      <th>goal</th>\n",
       "    </tr>\n",
       "  </thead>\n",
       "  <tbody>\n",
       "    <tr>\n",
       "      <th>0</th>\n",
       "      <td>Angelica Mae Bartolay</td>\n",
       "      <td>0.955937</td>\n",
       "      <td>90</td>\n",
       "    </tr>\n",
       "    <tr>\n",
       "      <th>1</th>\n",
       "      <td>Anthony Carreon</td>\n",
       "      <td>0.934708</td>\n",
       "      <td>90</td>\n",
       "    </tr>\n",
       "    <tr>\n",
       "      <th>2</th>\n",
       "      <td>Bhea celebran</td>\n",
       "      <td>0.909213</td>\n",
       "      <td>90</td>\n",
       "    </tr>\n",
       "    <tr>\n",
       "      <th>3</th>\n",
       "      <td>Brian Seva</td>\n",
       "      <td>0.813502</td>\n",
       "      <td>90</td>\n",
       "    </tr>\n",
       "    <tr>\n",
       "      <th>4</th>\n",
       "      <td>Carlos Cortez</td>\n",
       "      <td>1.000000</td>\n",
       "      <td>90</td>\n",
       "    </tr>\n",
       "  </tbody>\n",
       "</table>\n",
       "</div>"
      ],
      "text/plain": [
       "                  userid  adherence  goal\n",
       "0  Angelica Mae Bartolay   0.955937    90\n",
       "1        Anthony Carreon   0.934708    90\n",
       "2          Bhea celebran   0.909213    90\n",
       "3             Brian Seva   0.813502    90\n",
       "4          Carlos Cortez   1.000000    90"
      ]
     },
     "execution_count": 58,
     "metadata": {},
     "output_type": "execute_result"
    }
   ],
   "source": [
    "adherence.head()"
   ]
  },
  {
   "cell_type": "code",
   "execution_count": 85,
   "id": "4444eb74-3524-4efa-a163-6e97251e23f5",
   "metadata": {},
   "outputs": [
    {
     "data": {
      "text/html": [
       "<div>\n",
       "<style scoped>\n",
       "    .dataframe tbody tr th:only-of-type {\n",
       "        vertical-align: middle;\n",
       "    }\n",
       "\n",
       "    .dataframe tbody tr th {\n",
       "        vertical-align: top;\n",
       "    }\n",
       "\n",
       "    .dataframe thead th {\n",
       "        text-align: right;\n",
       "    }\n",
       "</style>\n",
       "<table border=\"1\" class=\"dataframe\">\n",
       "  <thead>\n",
       "    <tr style=\"text-align: right;\">\n",
       "      <th></th>\n",
       "      <th>userid</th>\n",
       "      <th>totnAnsweredACD</th>\n",
       "      <th>acw</th>\n",
       "      <th>aht</th>\n",
       "    </tr>\n",
       "  </thead>\n",
       "  <tbody>\n",
       "    <tr>\n",
       "      <th>1</th>\n",
       "      <td>Angelica Mae Bartolay</td>\n",
       "      <td>267</td>\n",
       "      <td>190.936330</td>\n",
       "      <td>696.947566</td>\n",
       "    </tr>\n",
       "    <tr>\n",
       "      <th>3</th>\n",
       "      <td>Bhea celebran</td>\n",
       "      <td>226</td>\n",
       "      <td>681.721239</td>\n",
       "      <td>1599.128319</td>\n",
       "    </tr>\n",
       "    <tr>\n",
       "      <th>5</th>\n",
       "      <td>Cecilia Morales</td>\n",
       "      <td>339</td>\n",
       "      <td>71.017699</td>\n",
       "      <td>397.828909</td>\n",
       "    </tr>\n",
       "    <tr>\n",
       "      <th>10</th>\n",
       "      <td>Dina Townsend</td>\n",
       "      <td>355</td>\n",
       "      <td>502.898592</td>\n",
       "      <td>855.216901</td>\n",
       "    </tr>\n",
       "    <tr>\n",
       "      <th>12</th>\n",
       "      <td>Fatima Grace Antham</td>\n",
       "      <td>347</td>\n",
       "      <td>106.659942</td>\n",
       "      <td>639.907781</td>\n",
       "    </tr>\n",
       "  </tbody>\n",
       "</table>\n",
       "</div>"
      ],
      "text/plain": [
       "                   userid  totnAnsweredACD         acw          aht\n",
       "1   Angelica Mae Bartolay              267  190.936330   696.947566\n",
       "3           Bhea celebran              226  681.721239  1599.128319\n",
       "5         Cecilia Morales              339   71.017699   397.828909\n",
       "10          Dina Townsend              355  502.898592   855.216901\n",
       "12    Fatima Grace Antham              347  106.659942   639.907781"
      ]
     },
     "execution_count": 85,
     "metadata": {},
     "output_type": "execute_result"
    }
   ],
   "source": [
    "df = pd.read_csv(\"User Productivity Summary.csv\")\n",
    "df[\"userid\"] = df[\"FirstName\"] + \" \" +  df[\"LastName\"]\n",
    "#df = df.groupby(['userid','queue'], as_index = True).sum()\n",
    "df = df.reset_index(level=0)\n",
    "df = df[df['queue'] == \"PH_Kinray_CustomerService_Z1_English\"]\n",
    "df= df[df['totnAnsweredACD'] > 0]\n",
    "df['acw'] = df[\"totTACW\"] / df[\"totnAnsweredACD\"] \n",
    "df['aht'] = (df[[\"totTACW\", \"totTTalkACD\", \"totTHoldACD\"]].sum(axis = 1)) / df[\"totnAnsweredACD\"] \n",
    "acd = df[[\"userid\",\"totnAnsweredACD\",\"acw\",\"aht\"]]\n",
    "acd.head()"
   ]
  },
  {
   "cell_type": "code",
   "execution_count": null,
   "id": "7213814f-638c-4fe9-b7f1-e9c86460f61b",
   "metadata": {},
   "outputs": [],
   "source": [
    "\n",
    "df1 = pd.DataFrame({'prod': ['Winalto_eu', 'Winalto_uc', 'CEM_eu'], 'age' : [28, 25, 30]})\n",
    "df2 = pd.DataFrame({'age': list(range(25,41)), 'qx': [2.7, 2.8, 2.8, 2.9, 3, 3.2, 3.4, 3.7, 4.1, 4.6, 5.1, 5.6, 6.1, 6.7, 7.5, 8.2]})\n",
    "\n",
    "for i in range(1,11):\n",
    "    df2['qx'+str(i)] = df2.qx.shift(-i)\n",
    "\n",
    "df3 = pd.merge(df1,df2,how = 'left',on = ['age'])\n",
    "            "
   ]
  },
  {
   "cell_type": "code",
   "execution_count": 86,
   "id": "0c8ecef7-c1cf-40a0-acd0-93468fb766ba",
   "metadata": {},
   "outputs": [],
   "source": [
    "df2 = pd.merge(acd,adherence,how = 'left',on = ['userid'])"
   ]
  },
  {
   "cell_type": "code",
   "execution_count": 88,
   "id": "53672e92-7389-4af3-836e-345b89cf815e",
   "metadata": {},
   "outputs": [
    {
     "data": {
      "text/html": [
       "<div>\n",
       "<style scoped>\n",
       "    .dataframe tbody tr th:only-of-type {\n",
       "        vertical-align: middle;\n",
       "    }\n",
       "\n",
       "    .dataframe tbody tr th {\n",
       "        vertical-align: top;\n",
       "    }\n",
       "\n",
       "    .dataframe thead th {\n",
       "        text-align: right;\n",
       "    }\n",
       "</style>\n",
       "<table border=\"1\" class=\"dataframe\">\n",
       "  <thead>\n",
       "    <tr style=\"text-align: right;\">\n",
       "      <th></th>\n",
       "      <th>userid</th>\n",
       "      <th>totnAnsweredACD</th>\n",
       "      <th>acw</th>\n",
       "      <th>aht</th>\n",
       "      <th>adherence</th>\n",
       "      <th>goal</th>\n",
       "    </tr>\n",
       "  </thead>\n",
       "  <tbody>\n",
       "    <tr>\n",
       "      <th>0</th>\n",
       "      <td>Angelica Mae Bartolay</td>\n",
       "      <td>267</td>\n",
       "      <td>190.936330</td>\n",
       "      <td>696.947566</td>\n",
       "      <td>0.955937</td>\n",
       "      <td>90</td>\n",
       "    </tr>\n",
       "    <tr>\n",
       "      <th>1</th>\n",
       "      <td>Bhea celebran</td>\n",
       "      <td>226</td>\n",
       "      <td>681.721239</td>\n",
       "      <td>1599.128319</td>\n",
       "      <td>0.909213</td>\n",
       "      <td>90</td>\n",
       "    </tr>\n",
       "    <tr>\n",
       "      <th>2</th>\n",
       "      <td>Cecilia Morales</td>\n",
       "      <td>339</td>\n",
       "      <td>71.017699</td>\n",
       "      <td>397.828909</td>\n",
       "      <td>0.938116</td>\n",
       "      <td>90</td>\n",
       "    </tr>\n",
       "    <tr>\n",
       "      <th>3</th>\n",
       "      <td>Dina Townsend</td>\n",
       "      <td>355</td>\n",
       "      <td>502.898592</td>\n",
       "      <td>855.216901</td>\n",
       "      <td>0.877305</td>\n",
       "      <td>90</td>\n",
       "    </tr>\n",
       "    <tr>\n",
       "      <th>4</th>\n",
       "      <td>Fatima Grace Antham</td>\n",
       "      <td>347</td>\n",
       "      <td>106.659942</td>\n",
       "      <td>639.907781</td>\n",
       "      <td>0.929787</td>\n",
       "      <td>90</td>\n",
       "    </tr>\n",
       "  </tbody>\n",
       "</table>\n",
       "</div>"
      ],
      "text/plain": [
       "                  userid  totnAnsweredACD         acw          aht  adherence  \\\n",
       "0  Angelica Mae Bartolay              267  190.936330   696.947566   0.955937   \n",
       "1          Bhea celebran              226  681.721239  1599.128319   0.909213   \n",
       "2        Cecilia Morales              339   71.017699   397.828909   0.938116   \n",
       "3          Dina Townsend              355  502.898592   855.216901   0.877305   \n",
       "4    Fatima Grace Antham              347  106.659942   639.907781   0.929787   \n",
       "\n",
       "   goal  \n",
       "0    90  \n",
       "1    90  \n",
       "2    90  \n",
       "3    90  \n",
       "4    90  "
      ]
     },
     "execution_count": 88,
     "metadata": {},
     "output_type": "execute_result"
    }
   ],
   "source": [
    "df2.head()"
   ]
  },
  {
   "cell_type": "code",
   "execution_count": 89,
   "id": "d324da6a-6543-491c-b0db-0fe09ff6e148",
   "metadata": {},
   "outputs": [
    {
     "data": {
      "text/plain": [
       "Index(['userid', 'totnAnsweredACD', 'acw', 'aht', 'adherence', 'goal'], dtype='object')"
      ]
     },
     "execution_count": 89,
     "metadata": {},
     "output_type": "execute_result"
    }
   ],
   "source": [
    "df2.columns"
   ]
  },
  {
   "cell_type": "code",
   "execution_count": null,
   "id": "cd99a980-cfdd-46f5-8f09-29a231e3fede",
   "metadata": {},
   "outputs": [],
   "source": []
  }
 ],
 "metadata": {
  "kernelspec": {
   "display_name": "Python 3",
   "language": "python",
   "name": "python3"
  },
  "language_info": {
   "codemirror_mode": {
    "name": "ipython",
    "version": 3
   },
   "file_extension": ".py",
   "mimetype": "text/x-python",
   "name": "python",
   "nbconvert_exporter": "python",
   "pygments_lexer": "ipython3",
   "version": "3.8.8"
  }
 },
 "nbformat": 4,
 "nbformat_minor": 5
}
